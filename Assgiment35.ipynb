{
 "cells": [
  {
   "cell_type": "code",
   "execution_count": 30,
   "id": "ed40b75b-88c8-454b-bd3e-f933af3c298a",
   "metadata": {},
   "outputs": [
    {
     "name": "stdout",
     "output_type": "stream",
     "text": [
      "Reversed string: !dlroW ,olleH\n"
     ]
    }
   ],
   "source": [
    "#1. Write a code to reverse a string.\n",
    "def reverse_string(input_string):\n",
    "    # Reverse the string using slicing\n",
    "    reversed_string = input_string[::-1]\n",
    "    return reversed_string\n",
    "\n",
    "# Example usage\n",
    "text = \"Hello, World!\"\n",
    "reversed_text = reverse_string(text)\n",
    "print(\"Reversed string:\", reversed_text)"
   ]
  },
  {
   "cell_type": "code",
   "execution_count": 32,
   "id": "cdf16b2f-8ded-4eef-bd04-f07aaddc08ad",
   "metadata": {},
   "outputs": [
    {
     "name": "stdout",
     "output_type": "stream",
     "text": [
      "Number of vowels: 3\n"
     ]
    }
   ],
   "source": [
    "#2. Write a code to count the number of vowels in a string.\n",
    "def count_vowels(input_string):\n",
    "    # Define a set of vowels\n",
    "    vowels = 'aeiouAEIOU'\n",
    "    # Count the vowels in the input string\n",
    "    count = sum(1 for char in input_string if char in vowels)\n",
    "    return count\n",
    "\n",
    "# Example usage\n",
    "text = \"Hello, World!\"\n",
    "vowel_count = count_vowels(text)\n",
    "print(\"Number of vowels:\", vowel_count)\n"
   ]
  },
  {
   "cell_type": "code",
   "execution_count": 34,
   "id": "1b371895-e93f-4cc5-ac13-403171940efb",
   "metadata": {},
   "outputs": [
    {
     "name": "stdout",
     "output_type": "stream",
     "text": [
      "\"A man a plan a canal Panama\" is a palindrome.\n"
     ]
    }
   ],
   "source": [
    "#3. Write a code to check if a given string is a palindrome or not.\n",
    "def is_palindrome(input_string):\n",
    "    # Remove spaces and convert to lowercase for uniformity\n",
    "    cleaned_string = ''.join(input_string.split()).lower()\n",
    "    # Check if the cleaned string is the same forwards and backwards\n",
    "    return cleaned_string == cleaned_string[::-1]\n",
    "\n",
    "# Example usage\n",
    "text = \"A man a plan a canal Panama\"\n",
    "if is_palindrome(text):\n",
    "    print(f'\"{text}\" is a palindrome.')\n",
    "else:\n",
    "    print(f'\"{text}\" is not a palindrome.')\n"
   ]
  },
  {
   "cell_type": "code",
   "execution_count": 36,
   "id": "4a6a49f8-11e2-47f9-afd4-62b1fe79655e",
   "metadata": {},
   "outputs": [
    {
     "name": "stdout",
     "output_type": "stream",
     "text": [
      "\"Listen\" and \"Silent\" are anagrams.\n"
     ]
    }
   ],
   "source": [
    "#4. Write a code to check if two given strings are anagrams of each other.\n",
    "def are_anagrams(str1, str2):\n",
    "    # Remove spaces and convert to lowercase\n",
    "    cleaned_str1 = ''.join(str1.split()).lower()\n",
    "    cleaned_str2 = ''.join(str2.split()).lower()\n",
    "    \n",
    "    # Sort the characters of both strings and compare\n",
    "    return sorted(cleaned_str1) == sorted(cleaned_str2)\n",
    "\n",
    "# Example usage\n",
    "string1 = \"Listen\"\n",
    "string2 = \"Silent\"\n",
    "if are_anagrams(string1, string2):\n",
    "    print(f'\"{string1}\" and \"{string2}\" are anagrams.')\n",
    "else:\n",
    "    print(f'\"{string1}\" and \"{string2}\" are not anagrams.')\n"
   ]
  },
  {
   "cell_type": "code",
   "execution_count": 40,
   "id": "94e88f0e-acaa-4f50-978d-3ea58638ee34",
   "metadata": {},
   "outputs": [
    {
     "name": "stdout",
     "output_type": "stream",
     "text": [
      "Occurrences of substring: [10, 28, 43]\n"
     ]
    }
   ],
   "source": [
    "#5. Write a code to find all occurrences of a given substring within another string.\n",
    "def find_all_occurrences(main_string, substring):\n",
    "    start = 0\n",
    "    occurrences = []\n",
    "    \n",
    "    while True:\n",
    "        start = main_string.find(substring, start)\n",
    "        if start == -1:\n",
    "            break\n",
    "        occurrences.append(start)\n",
    "        start += 1  # Move past the last found index to find next occurrence\n",
    "        \n",
    "    return occurrences\n",
    "\n",
    "# Example usage:\n",
    "main_string = \"This is a test string. This test is only a test.\"\n",
    "substring = \"test\"\n",
    "positions = find_all_occurrences(main_string, substring)\n",
    "\n",
    "print(\"Occurrences of substring:\", positions)\n"
   ]
  },
  {
   "cell_type": "code",
   "execution_count": 28,
   "id": "eb56c721-671c-4fe0-bad1-5a8791a2de03",
   "metadata": {},
   "outputs": [
    {
     "name": "stdout",
     "output_type": "stream",
     "text": [
      "Compressed string: a3b3c3a3\n"
     ]
    }
   ],
   "source": [
    "#6. Write a code to perform basic string compression using the counts of repeated characters.\n",
    "def compress_string(input_string):\n",
    "    if not input_string:\n",
    "        return \"\"\n",
    "\n",
    "    compressed = []\n",
    "    count = 1\n",
    "\n",
    "    for i in range(1, len(input_string)):\n",
    "        if input_string[i] == input_string[i - 1]:\n",
    "            count += 1\n",
    "        else:\n",
    "            compressed.append(input_string[i - 1])\n",
    "            compressed.append(str(count))\n",
    "            count = 1\n",
    "\n",
    "    # Add the last character and its count\n",
    "    compressed.append(input_string[-1])\n",
    "    compressed.append(str(count))\n",
    "\n",
    "    compressed_string = ''.join(compressed)\n",
    "    return compressed_string if len(compressed_string) < len(input_string) else input_string\n",
    "\n",
    "# Example usage\n",
    "text = \"aaabbbcccaaa\"\n",
    "compressed_text = compress_string(text)\n",
    "print(\"Compressed string:\", compressed_text)\n"
   ]
  },
  {
   "cell_type": "code",
   "execution_count": 38,
   "id": "372bc22c-5736-4074-a7c4-4600b7d9d76e",
   "metadata": {},
   "outputs": [
    {
     "name": "stdout",
     "output_type": "stream",
     "text": [
      "\"abcdefg\" has all unique characters.\n"
     ]
    }
   ],
   "source": [
    "#7. Write a code to determine if a string has all unique characters.\n",
    "def has_unique_characters(input_string):\n",
    "    # Use a set to track seen characters\n",
    "    seen_characters = set()\n",
    "\n",
    "    for char in input_string:\n",
    "        if char in seen_characters:\n",
    "            return False  # Found a duplicate\n",
    "        seen_characters.add(char)\n",
    "\n",
    "    return True  # All characters are unique\n",
    "\n",
    "# Example usage\n",
    "text = \"abcdefg\"\n",
    "if has_unique_characters(text):\n",
    "    print(f'\"{text}\" has all unique characters.')\n",
    "else:\n",
    "    print(f'\"{text}\" does not have all unique characters.')\n"
   ]
  },
  {
   "cell_type": "code",
   "execution_count": 22,
   "id": "80b69593-617b-4a7c-878d-306c35fec4df",
   "metadata": {},
   "outputs": [
    {
     "name": "stdout",
     "output_type": "stream",
     "text": [
      "Original String: Hello, World!\n",
      "Uppercase: HELLO, WORLD!\n",
      "Lowercase: hello, world!\n"
     ]
    }
   ],
   "source": [
    "#8. Write a code to convert a given string to uppercase or lowercase.\n",
    "def convert_case(input_string, to_upper=True):\n",
    "    if to_upper:\n",
    "        return input_string.upper()\n",
    "    else:\n",
    "        return input_string.lower()\n",
    "\n",
    "# Example usage:\n",
    "string_to_convert = \"Hello, World!\"\n",
    "upper_case = convert_case(string_to_convert, to_upper=True)\n",
    "lower_case = convert_case(string_to_convert, to_upper=False)\n",
    "\n",
    "print(\"Original String:\", string_to_convert)\n",
    "print(\"Uppercase:\", upper_case)\n",
    "print(\"Lowercase:\", lower_case)\n"
   ]
  },
  {
   "cell_type": "code",
   "execution_count": 24,
   "id": "5a092620-9cfe-413b-91bd-abe5ed0fdc66",
   "metadata": {},
   "outputs": [
    {
     "name": "stdout",
     "output_type": "stream",
     "text": [
      "Number of words: 5\n"
     ]
    }
   ],
   "source": [
    "#9. Write a code to count the number of words in a string.\n",
    "def count_words(input_string):\n",
    "    # Split the string into words based on whitespace\n",
    "    words = input_string.split()\n",
    "    # Return the number of words\n",
    "    return len(words)\n",
    "\n",
    "# Example usage\n",
    "text = \"Hello, how are you today?\"\n",
    "word_count = count_words(text)\n",
    "print(\"Number of words:\", word_count)\n"
   ]
  },
  {
   "cell_type": "code",
   "execution_count": 42,
   "id": "a453268a-068e-4913-9e09-f0c357496305",
   "metadata": {},
   "outputs": [
    {
     "name": "stdout",
     "output_type": "stream",
     "text": [
      "Concatenated String: Hello, World!\n"
     ]
    }
   ],
   "source": [
    "#10. Write a code to concatenate two strings without using the operator.\n",
    "def concatenate_strings(string1, string2):\n",
    "    return ''.join([string1, string2])\n",
    "\n",
    "# Example usage:\n",
    "str1 = \"Hello, \"\n",
    "str2 = \"World!\"\n",
    "result = concatenate_strings(str1, str2)\n",
    "\n",
    "print(\"Concatenated String:\", result)\n"
   ]
  },
  {
   "cell_type": "code",
   "execution_count": 46,
   "id": "f83b7a7f-4193-4db8-8bdb-a1db244bcc8d",
   "metadata": {},
   "outputs": [
    {
     "name": "stdout",
     "output_type": "stream",
     "text": [
      "List after removal: [1, 3, 4, 5]\n"
     ]
    }
   ],
   "source": [
    "#11. Write a code to remove all occurrences of a specific element from a list.\n",
    "def remove_occurrences(input_list, element):\n",
    "    return [item for item in input_list if item != element]\n",
    "\n",
    "# Example usage:\n",
    "my_list = [1, 2, 3, 4, 2, 5, 2]\n",
    "element_to_remove = 2\n",
    "result = remove_occurrences(my_list, element_to_remove)\n",
    "\n",
    "print(\"List after removal:\", result)\n",
    "\n"
   ]
  },
  {
   "cell_type": "code",
   "execution_count": 48,
   "id": "4851dd41-5dd0-4f39-9ffe-329bb7955021",
   "metadata": {},
   "outputs": [
    {
     "name": "stdout",
     "output_type": "stream",
     "text": [
      "Second largest number: 7\n"
     ]
    }
   ],
   "source": [
    "#12. Implement a code to find the second largest number in a given list of integers.\n",
    "def find_second_largest(numbers):\n",
    "    unique_numbers = list(set(numbers))  # Remove duplicates\n",
    "    if len(unique_numbers) < 2:\n",
    "        return None  # Not enough unique elements to find the second largest\n",
    "    unique_numbers.sort()  # Sort the unique numbers\n",
    "    return unique_numbers[-2]  # Return the second largest\n",
    "\n",
    "# Example usage:\n",
    "my_list = [5, 3, 8, 1, 8, 7]\n",
    "second_largest = find_second_largest(my_list)\n",
    "\n",
    "print(\"Second largest number:\", second_largest)\n"
   ]
  },
  {
   "cell_type": "code",
   "execution_count": 50,
   "id": "434755a0-8e79-4daa-b75d-feff5a4abed5",
   "metadata": {},
   "outputs": [
    {
     "name": "stdout",
     "output_type": "stream",
     "text": [
      "Occurrences: {1: 2, 2: 2, 3: 1, 4: 3}\n"
     ]
    }
   ],
   "source": [
    "#13. Create a code to count the occurrences of each element in a list and return a dictionary with elements as keys and their counts as values.\n",
    "from collections import Counter\n",
    "\n",
    "def count_occurrences(input_list):\n",
    "    return dict(Counter(input_list))\n",
    "\n",
    "# Example usage:\n",
    "my_list = [1, 2, 2, 3, 1, 4, 4, 4]\n",
    "occurrences = count_occurrences(my_list)\n",
    "\n",
    "print(\"Occurrences:\", occurrences)\n"
   ]
  },
  {
   "cell_type": "code",
   "execution_count": 52,
   "id": "fb4b50f3-113f-4cb6-85ee-678b382e2b50",
   "metadata": {},
   "outputs": [
    {
     "name": "stdout",
     "output_type": "stream",
     "text": [
      "Reversed List: [5, 4, 3, 2, 1]\n"
     ]
    }
   ],
   "source": [
    "#14. Write a code to reverse a list in-place without using any built-in reverse functions.\n",
    "def reverse_list(input_list):\n",
    "    left = 0\n",
    "    right = len(input_list) - 1\n",
    "\n",
    "    while left < right:\n",
    "        # Swap elements at left and right indices\n",
    "        input_list[left], input_list[right] = input_list[right], input_list[left]\n",
    "        # Move towards the middle\n",
    "        left += 1\n",
    "        right -= 1\n",
    "\n",
    "# Example usage:\n",
    "my_list = [1, 2, 3, 4, 5]\n",
    "reverse_list(my_list)\n",
    "\n",
    "print(\"Reversed List:\", my_list)\n"
   ]
  },
  {
   "cell_type": "code",
   "execution_count": 54,
   "id": "9dd4dcd4-4786-41c1-86d1-d510588574a7",
   "metadata": {},
   "outputs": [
    {
     "name": "stdout",
     "output_type": "stream",
     "text": [
      "List after removing duplicates: [1, 2, 3, 4, 5]\n"
     ]
    }
   ],
   "source": [
    "#15. Implement a code to find and remove duplicates from a list while preserving the original order of elements.\n",
    "def remove_duplicates(input_list):\n",
    "    seen = set()\n",
    "    result = []\n",
    "\n",
    "    for item in input_list:\n",
    "        if item not in seen:\n",
    "            seen.add(item)\n",
    "            result.append(item)\n",
    "\n",
    "    return result\n",
    "\n",
    "# Example usage:\n",
    "my_list = [1, 2, 2, 3, 1, 4, 4, 5]\n",
    "unique_list = remove_duplicates(my_list)\n",
    "\n",
    "print(\"List after removing duplicates:\", unique_list)\n"
   ]
  },
  {
   "cell_type": "code",
   "execution_count": 56,
   "id": "abeea447-19af-4b5d-b98d-d370582a6d48",
   "metadata": {},
   "outputs": [
    {
     "name": "stdout",
     "output_type": "stream",
     "text": [
      "Is the list sorted (ascending or descending)?\n",
      "Ascending List: True\n",
      "Descending List: True\n",
      "Unsorted List: False\n"
     ]
    }
   ],
   "source": [
    "#16. Create a code to check if a given list is sorted (either in ascending or descending order) or not.\n",
    "def is_sorted(input_list):\n",
    "    if len(input_list) < 2:\n",
    "        return True  # A list with 0 or 1 element is considered sorted\n",
    "\n",
    "    ascending = all(input_list[i] <= input_list[i + 1] for i in range(len(input_list) - 1))\n",
    "    descending = all(input_list[i] >= input_list[i + 1] for i in range(len(input_list) - 1))\n",
    "\n",
    "    return ascending or descending\n",
    "\n",
    "# Example usage:\n",
    "my_list_asc = [1, 2, 3, 4, 5]\n",
    "my_list_desc = [5, 4, 3, 2, 1]\n",
    "my_list_unsorted = [1, 3, 2, 4]\n",
    "\n",
    "print(\"Is the list sorted (ascending or descending)?\")\n",
    "print(\"Ascending List:\", is_sorted(my_list_asc))       # True\n",
    "print(\"Descending List:\", is_sorted(my_list_desc))     # True\n",
    "print(\"Unsorted List:\", is_sorted(my_list_unsorted))   # False\n"
   ]
  },
  {
   "cell_type": "code",
   "execution_count": 60,
   "id": "7470e2e9-ae79-4661-b77c-4d58078048e4",
   "metadata": {},
   "outputs": [
    {
     "name": "stdout",
     "output_type": "stream",
     "text": [
      "Merged Sorted List: [1, 2, 3, 4, 5, 6, 7, 8]\n"
     ]
    }
   ],
   "source": [
    "#17. Write a code to merge two sorted lists into a single sorted list.\n",
    "def merge_sorted_lists(list1, list2):\n",
    "    merged_list = []\n",
    "    i, j = 0, 0\n",
    "\n",
    "    # Traverse both lists and append the smaller element to merged_list\n",
    "    while i < len(list1) and j < len(list2):\n",
    "        if list1[i] < list2[j]:\n",
    "            merged_list.append(list1[i])\n",
    "            i += 1\n",
    "        else:\n",
    "            merged_list.append(list2[j])\n",
    "            j += 1\n",
    "\n",
    "    # Append any remaining elements from list1\n",
    "    while i < len(list1):\n",
    "        merged_list.append(list1[i])\n",
    "        i += 1\n",
    "\n",
    "    # Append any remaining elements from list2\n",
    "    while j < len(list2):\n",
    "        merged_list.append(list2[j])\n",
    "        j += 1\n",
    "\n",
    "    return merged_list\n",
    "\n",
    "# Example usage:\n",
    "sorted_list1 = [1, 3, 5, 7]\n",
    "sorted_list2 = [2, 4, 6, 8]\n",
    "merged_list = merge_sorted_lists(sorted_list1, sorted_list2)\n",
    "\n",
    "print(\"Merged Sorted List:\", merged_list)\n"
   ]
  },
  {
   "cell_type": "code",
   "execution_count": 62,
   "id": "da297d68-7da6-47e8-acba-14c900433ce1",
   "metadata": {},
   "outputs": [
    {
     "name": "stdout",
     "output_type": "stream",
     "text": [
      "Intersection of the two lists: [4, 5]\n"
     ]
    }
   ],
   "source": [
    "#18. Implement a code to find the intersection of two given lists.\n",
    "def intersection(list1, list2):\n",
    "    # Convert the second list to a set for efficient lookups\n",
    "    set2 = set(list2)\n",
    "    # Use a set comprehension to collect common elements\n",
    "    return [item for item in list1 if item in set2]\n",
    "\n",
    "# Example usage:\n",
    "list_a = [1, 2, 3, 4, 5]\n",
    "list_b = [4, 5, 6, 7, 8]\n",
    "common_elements = intersection(list_a, list_b)\n",
    "\n",
    "print(\"Intersection of the two lists:\", common_elements)\n"
   ]
  },
  {
   "cell_type": "code",
   "execution_count": 64,
   "id": "fe1a2768-09c8-4960-971a-07a63a2a54f8",
   "metadata": {},
   "outputs": [
    {
     "name": "stdout",
     "output_type": "stream",
     "text": [
      "Union of the two lists: [1, 2, 3, 4, 5, 6, 7, 8]\n"
     ]
    }
   ],
   "source": [
    "#19. Create a code to find the union of two lists without duplicates.\n",
    "def union(list1, list2):\n",
    "    # Use a set to eliminate duplicates and combine both lists\n",
    "    return list(set(list1) | set(list2))\n",
    "\n",
    "# Example usage:\n",
    "list_a = [1, 2, 3, 4, 5]\n",
    "list_b = [4, 5, 6, 7, 8]\n",
    "union_list = union(list_a, list_b)\n",
    "\n",
    "print(\"Union of the two lists:\", union_list)\n"
   ]
  },
  {
   "cell_type": "code",
   "execution_count": 66,
   "id": "27478700-3c71-4670-906b-9fe37c828cb9",
   "metadata": {},
   "outputs": [
    {
     "name": "stdout",
     "output_type": "stream",
     "text": [
      "Original List: [1, 2, 3, 4, 5]\n",
      "Shuffled List: [2, 5, 3, 4, 1]\n"
     ]
    }
   ],
   "source": [
    "#20. Write a code to shuffle a given list randomly without using any built-in shuffle functions.\n",
    "import random\n",
    "\n",
    "def shuffle_list(input_list):\n",
    "    # Create a copy of the original list to avoid modifying it\n",
    "    shuffled_list = input_list[:]\n",
    "    \n",
    "    # Perform Fisher-Yates shuffle\n",
    "    for i in range(len(shuffled_list) - 1, 0, -1):\n",
    "        j = random.randint(0, i)  # Pick a random index from 0 to i\n",
    "        # Swap elements at indices i and j\n",
    "        shuffled_list[i], shuffled_list[j] = shuffled_list[j], shuffled_list[i]\n",
    "    \n",
    "    return shuffled_list\n",
    "\n",
    "# Example usage:\n",
    "my_list = [1, 2, 3, 4, 5]\n",
    "shuffled_list = shuffle_list(my_list)\n",
    "\n",
    "print(\"Original List:\", my_list)\n",
    "print(\"Shuffled List:\", shuffled_list)\n"
   ]
  },
  {
   "cell_type": "code",
   "execution_count": 68,
   "id": "2d4ecea6-564d-4df2-be2f-6804416f0126",
   "metadata": {},
   "outputs": [
    {
     "name": "stdout",
     "output_type": "stream",
     "text": [
      "Common elements: (4, 5)\n"
     ]
    }
   ],
   "source": [
    "#21. Write a code that takes two tuples as input and returns a new tuple containing elements that are common to both Input tuples.\n",
    "def common_elements(tuple1, tuple2):\n",
    "    # Convert tuples to sets to find the intersection\n",
    "    common_set = set(tuple1) & set(tuple2)\n",
    "    # Return the common elements as a new tuple\n",
    "    return tuple(common_set)\n",
    "\n",
    "# Example usage:\n",
    "tuple_a = (1, 2, 3, 4, 5)\n",
    "tuple_b = (4, 5, 6, 7, 8)\n",
    "common_tuple = common_elements(tuple_a, tuple_b)\n",
    "\n",
    "print(\"Common elements:\", common_tuple)\n"
   ]
  },
  {
   "cell_type": "code",
   "execution_count": 70,
   "id": "bb389f32-7344-4ff1-be02-412c816cc708",
   "metadata": {},
   "outputs": [
    {
     "name": "stdin",
     "output_type": "stream",
     "text": [
      "Enter the first set of integers (separated by commas):  1,2,3,4,5\n",
      "Enter the second set of integers (separated by commas):  4,5,6,7\n"
     ]
    },
    {
     "name": "stdout",
     "output_type": "stream",
     "text": [
      "Intersection of the two sets: {4, 5}\n"
     ]
    }
   ],
   "source": [
    "#22. Create a code that prompts the user to enter two sets of integers separated by commas. Then, print the intersection of these two sets.\n",
    "def get_set_from_input(prompt):\n",
    "    # Prompt the user for input\n",
    "    user_input = input(prompt)\n",
    "    # Convert the input string to a set of integers\n",
    "    return set(int(num) for num in user_input.split(','))\n",
    "\n",
    "def main():\n",
    "    # Get two sets from user input\n",
    "    set1 = get_set_from_input(\"Enter the first set of integers (separated by commas): \")\n",
    "    set2 = get_set_from_input(\"Enter the second set of integers (separated by commas): \")\n",
    "\n",
    "    # Calculate the intersection\n",
    "    intersection = set1 & set2\n",
    "\n",
    "    # Print the result\n",
    "    print(\"Intersection of the two sets:\", intersection)\n",
    "\n",
    "# Run the main function\n",
    "if __name__ == \"__main__\":\n",
    "    main()\n"
   ]
  },
  {
   "cell_type": "code",
   "execution_count": 72,
   "id": "e2feec7f-b279-4763-a406-465933d441e9",
   "metadata": {},
   "outputs": [
    {
     "name": "stdout",
     "output_type": "stream",
     "text": [
      "Concatenated Tuple: (1, 2, 3, 4, 5, 6)\n"
     ]
    }
   ],
   "source": [
    "#23. Write a code to concatenate two tuples. The function should take two tuples as input and return a new tuple containing elements from both input tuples.\n",
    "def concatenate_tuples(tuple1, tuple2):\n",
    "    # Concatenate the two tuples\n",
    "    return tuple1 + tuple2\n",
    "\n",
    "# Example usage:\n",
    "tuple_a = (1, 2, 3)\n",
    "tuple_b = (4, 5, 6)\n",
    "result_tuple = concatenate_tuples(tuple_a, tuple_b)\n",
    "\n",
    "print(\"Concatenated Tuple:\", result_tuple)\n"
   ]
  },
  {
   "cell_type": "code",
   "execution_count": 74,
   "id": "a86d688d-8c89-4d48-aa51-ae6d351c5201",
   "metadata": {},
   "outputs": [
    {
     "name": "stdin",
     "output_type": "stream",
     "text": [
      "Enter the first set of strings (separated by commas):  apple,banana,orange\n",
      "Enter the second set of strings (separated by commas):  banana,grape\n"
     ]
    },
    {
     "name": "stdout",
     "output_type": "stream",
     "text": [
      "Elements in the first set but not in the second set: {'orange', 'apple'}\n"
     ]
    }
   ],
   "source": [
    "#24. Develop a code that prompts the user to Input two sets of strings. Then, print the elements that are present in the first set but not in the second set.\n",
    "def get_set_from_input(prompt):\n",
    "    # Prompt the user for input\n",
    "    user_input = input(prompt)\n",
    "    # Convert the input string to a set of strings\n",
    "    return set(user_input.split(','))\n",
    "\n",
    "def main():\n",
    "    # Get two sets from user input\n",
    "    set1 = get_set_from_input(\"Enter the first set of strings (separated by commas): \")\n",
    "    set2 = get_set_from_input(\"Enter the second set of strings (separated by commas): \")\n",
    "\n",
    "    # Calculate the difference\n",
    "    difference = set1 - set2\n",
    "\n",
    "    # Print the result\n",
    "    print(\"Elements in the first set but not in the second set:\", difference)\n",
    "\n",
    "# Run the main function\n",
    "if __name__ == \"__main__\":\n",
    "    main()\n"
   ]
  },
  {
   "cell_type": "code",
   "execution_count": 76,
   "id": "730128cd-246d-4652-9f89-acc97540050e",
   "metadata": {},
   "outputs": [
    {
     "name": "stdout",
     "output_type": "stream",
     "text": [
      "Original Tuple: (10, 20, 30, 40, 50, 60)\n",
      "Sliced Tuple: (20, 30, 40)\n"
     ]
    }
   ],
   "source": [
    "#25. Create a code that takes a tuple and two integers as input. The function should return a new tuple containing elements from the original tuple within the specified range of indices.\n",
    "def slice_tuple(original_tuple, start, end):\n",
    "    # Return a new tuple containing elements from start to end (exclusive)\n",
    "    return original_tuple[start:end]\n",
    "\n",
    "# Example usage:\n",
    "my_tuple = (10, 20, 30, 40, 50, 60)\n",
    "start_index = 1\n",
    "end_index = 4\n",
    "result_tuple = slice_tuple(my_tuple, start_index, end_index)\n",
    "\n",
    "print(\"Original Tuple:\", my_tuple)\n",
    "print(\"Sliced Tuple:\", result_tuple)\n"
   ]
  },
  {
   "cell_type": "code",
   "execution_count": 78,
   "id": "5da0d0b7-332b-4f90-8b5a-a27ff9797ac9",
   "metadata": {},
   "outputs": [
    {
     "name": "stdin",
     "output_type": "stream",
     "text": [
      "Enter the first set of characters:  abced\n",
      "Enter the second set of characters:  cdfre\n"
     ]
    },
    {
     "name": "stdout",
     "output_type": "stream",
     "text": [
      "Union of the two sets: {'b', 'c', 'd', 'e', 'a', 'f', 'r'}\n"
     ]
    }
   ],
   "source": [
    "#26. Write a code that prompts the user to input two sets of characters. Then, print the unlan of these two sets.\n",
    "def get_set_from_input(prompt):\n",
    "    # Prompt the user for input\n",
    "    user_input = input(prompt)\n",
    "    # Convert the input string to a set of characters\n",
    "    return set(user_input)\n",
    "\n",
    "def main():\n",
    "    # Get two sets from user input\n",
    "    set1 = get_set_from_input(\"Enter the first set of characters: \")\n",
    "    set2 = get_set_from_input(\"Enter the second set of characters: \")\n",
    "\n",
    "    # Calculate the union\n",
    "    union_set = set1 | set2\n",
    "\n",
    "    # Print the result\n",
    "    print(\"Union of the two sets:\", union_set)\n",
    "\n",
    "# Run the main function\n",
    "if __name__ == \"__main__\":\n",
    "    main()\n"
   ]
  },
  {
   "cell_type": "code",
   "execution_count": 80,
   "id": "342eef6c-ba19-4597-9aa2-d92fd9a7c0fe",
   "metadata": {},
   "outputs": [
    {
     "name": "stdout",
     "output_type": "stream",
     "text": [
      "Original Tuple: (10, 20, 5, 40, 15)\n",
      "Maximum Value: 40\n",
      "Minimum Value: 5\n"
     ]
    }
   ],
   "source": [
    "#27. Develop a code that takes a tuple of integers as input. The function should return the maximum and minimum values from the tuple using tuple unpacking.\n",
    "def find_max_min(input_tuple):\n",
    "    # Use built-in max() and min() functions to find max and min values\n",
    "    max_value = max(input_tuple)\n",
    "    min_value = min(input_tuple)\n",
    "    \n",
    "    # Return both values as a tuple\n",
    "    return max_value, min_value\n",
    "\n",
    "# Example usage:\n",
    "my_tuple = (10, 20, 5, 40, 15)\n",
    "max_value, min_value = find_max_min(my_tuple)\n",
    "\n",
    "print(\"Original Tuple:\", my_tuple)\n",
    "print(\"Maximum Value:\", max_value)\n",
    "print(\"Minimum Value:\", min_value)\n"
   ]
  },
  {
   "cell_type": "code",
   "execution_count": 82,
   "id": "0e16a1e3-68de-470f-a6e6-347f58febb0d",
   "metadata": {},
   "outputs": [
    {
     "name": "stdout",
     "output_type": "stream",
     "text": [
      "Set 1: {1, 2, 3, 4, 5}\n",
      "Set 2: {4, 5, 6, 7, 8}\n",
      "Union of the two sets: {1, 2, 3, 4, 5, 6, 7, 8}\n",
      "Intersection of the two sets: {4, 5}\n",
      "Difference (Set 1 - Set 2): {1, 2, 3}\n"
     ]
    }
   ],
   "source": [
    "#28. Create a code that defines two sets of integers. Then, print the union, Intersection, and difference of these two sets\n",
    "def main():\n",
    "    # Define two sets of integers\n",
    "    set1 = {1, 2, 3, 4, 5}\n",
    "    set2 = {4, 5, 6, 7, 8}\n",
    "\n",
    "    # Calculate the union, intersection, and difference\n",
    "    union_set = set1 | set2\n",
    "    intersection_set = set1 & set2\n",
    "    difference_set = set1 - set2\n",
    "\n",
    "    # Print the results\n",
    "    print(\"Set 1:\", set1)\n",
    "    print(\"Set 2:\", set2)\n",
    "    print(\"Union of the two sets:\", union_set)\n",
    "    print(\"Intersection of the two sets:\", intersection_set)\n",
    "    print(\"Difference (Set 1 - Set 2):\", difference_set)\n",
    "\n",
    "# Run the main function\n",
    "if __name__ == \"__main__\":\n",
    "    main()\n"
   ]
  },
  {
   "cell_type": "code",
   "execution_count": 84,
   "id": "bde350db-4282-4811-91c9-e4f6fa8fddb5",
   "metadata": {},
   "outputs": [
    {
     "name": "stdout",
     "output_type": "stream",
     "text": [
      "Original Tuple: (1, 2, 3, 2, 4, 2, 5)\n",
      "Count of occurrences of 2 : 3\n"
     ]
    }
   ],
   "source": [
    "#29. Write a code that takes a tuple and an element as input. The function should return the count of occurrences of the given element in the tuple.\n",
    "def count_occurrences(input_tuple, element):\n",
    "    # Use the count method of the tuple to find occurrences\n",
    "    return input_tuple.count(element)\n",
    "\n",
    "# Example usage:\n",
    "my_tuple = (1, 2, 3, 2, 4, 2, 5)\n",
    "element_to_count = 2\n",
    "count = count_occurrences(my_tuple, element_to_count)\n",
    "\n",
    "print(\"Original Tuple:\", my_tuple)\n",
    "print(\"Count of occurrences of\", element_to_count, \":\", count)\n"
   ]
  },
  {
   "cell_type": "code",
   "execution_count": 86,
   "id": "5feff654-707b-4171-869d-6d6cfef3d950",
   "metadata": {},
   "outputs": [
    {
     "name": "stdin",
     "output_type": "stream",
     "text": [
      "Enter the first set of strings (separated by commas):  apple,banana,orange\n",
      "Enter the second set of strings (separated by commas):   banana,grape\n"
     ]
    },
    {
     "name": "stdout",
     "output_type": "stream",
     "text": [
      "Symmetric difference of the two sets: {'grape', 'orange', ' banana', 'banana', 'apple'}\n"
     ]
    }
   ],
   "source": [
    "#30. Develop a code that prompts the user to input two sets of strings. Then, print the symmetric difference of these two sets. \n",
    "def get_set_from_input(prompt):\n",
    "    # Prompt the user for input\n",
    "    user_input = input(prompt)\n",
    "    # Convert the input string to a set of strings\n",
    "    return set(user_input.split(','))\n",
    "\n",
    "def main():\n",
    "    # Get two sets from user input\n",
    "    set1 = get_set_from_input(\"Enter the first set of strings (separated by commas): \")\n",
    "    set2 = get_set_from_input(\"Enter the second set of strings (separated by commas): \")\n",
    "\n",
    "    # Calculate the symmetric difference\n",
    "    symmetric_difference = set1 ^ set2\n",
    "\n",
    "    # Print the result\n",
    "    print(\"Symmetric difference of the two sets:\", symmetric_difference)\n",
    "\n",
    "# Run the main function\n",
    "if __name__ == \"__main__\":\n",
    "    main()\n"
   ]
  },
  {
   "cell_type": "code",
   "execution_count": 88,
   "id": "493f6d2a-b350-4e0f-a41a-f9ea54efd435",
   "metadata": {},
   "outputs": [
    {
     "name": "stdout",
     "output_type": "stream",
     "text": [
      "Input List: ['apple', 'banana', 'apple', 'orange', 'banana', 'apple']\n",
      "Word Frequencies: {'apple': 3, 'banana': 2, 'orange': 1}\n"
     ]
    }
   ],
   "source": [
    "#31. Write a code that takes a list of words as input and returns a dictionary whers the keys are unique wends and the values are the frequencies of those words in the input list.\n",
    "def word_frequencies(word_list):\n",
    "    frequency_dict = {}\n",
    "    \n",
    "    for word in word_list:\n",
    "        # Increment the count of the word in the dictionary\n",
    "        if word in frequency_dict:\n",
    "            frequency_dict[word] += 1\n",
    "        else:\n",
    "            frequency_dict[word] = 1\n",
    "            \n",
    "    return frequency_dict\n",
    "\n",
    "# Example usage:\n",
    "input_list = [\"apple\", \"banana\", \"apple\", \"orange\", \"banana\", \"apple\"]\n",
    "result = word_frequencies(input_list)\n",
    "\n",
    "print(\"Input List:\", input_list)\n",
    "print(\"Word Frequencies:\", result)\n"
   ]
  },
  {
   "cell_type": "code",
   "execution_count": 90,
   "id": "43b9748a-6bb1-45a7-958c-6f63aef95697",
   "metadata": {},
   "outputs": [
    {
     "name": "stdout",
     "output_type": "stream",
     "text": [
      "Merged Dictionary: {'a': 1, 'b': 5, 'c': 4, 'd': 4}\n"
     ]
    }
   ],
   "source": [
    "#32. Write a code that takes two dictionaries as input and merges them into a single dictionary. If there are common keys, the values should be added together.\n",
    "def merge_dictionaries(dict1, dict2):\n",
    "    # Create a new dictionary to store the merged result\n",
    "    merged_dict = dict1.copy()  # Start with the first dictionary\n",
    "\n",
    "    for key, value in dict2.items():\n",
    "        if key in merged_dict:\n",
    "            # If the key exists, add the values\n",
    "            merged_dict[key] += value\n",
    "        else:\n",
    "            # If the key does not exist, add it to the merged dictionary\n",
    "            merged_dict[key] = value\n",
    "\n",
    "    return merged_dict\n",
    "\n",
    "# Example usage:\n",
    "dict_a = {'a': 1, 'b': 2, 'c': 3}\n",
    "dict_b = {'b': 3, 'c': 1, 'd': 4}\n",
    "\n",
    "result = merge_dictionaries(dict_a, dict_b)\n",
    "\n",
    "print(\"Merged Dictionary:\", result)\n"
   ]
  },
  {
   "cell_type": "code",
   "execution_count": 92,
   "id": "22700451-0340-4f89-ae75-26bca48e7e2f",
   "metadata": {},
   "outputs": [
    {
     "name": "stdout",
     "output_type": "stream",
     "text": [
      "Accessed Value: 10\n",
      "Accessed Value (invalid keys): None\n"
     ]
    }
   ],
   "source": [
    "#33. Write a code to access a value in a nested dictionary. The function should take the dictionary and a ilst of keys as input, and return the corresponding value. If any of the keys do not exist in the dictionary, the function should return None.\n",
    "def access_nested_value(nested_dict, keys):\n",
    "    current = nested_dict\n",
    "    \n",
    "    for key in keys:\n",
    "        if key in current:\n",
    "            current = current[key]  # Move deeper into the nested dictionary\n",
    "        else:\n",
    "            return None  # Return None if the key doesn't exist\n",
    "    \n",
    "    return current  # Return the final value\n",
    "\n",
    "# Example usage:\n",
    "nested_dictionary = {\n",
    "    'a': {\n",
    "        'b': {\n",
    "            'c': 10,\n",
    "            'd': 20\n",
    "        },\n",
    "        'e': 30\n",
    "    },\n",
    "    'f': 40\n",
    "}\n",
    "\n",
    "keys_to_access = ['a', 'b', 'c']\n",
    "result = access_nested_value(nested_dictionary, keys_to_access)\n",
    "\n",
    "print(\"Accessed Value:\", result)  # Should output: 10\n",
    "\n",
    "# Testing with a non-existing key\n",
    "keys_to_access_invalid = ['a', 'x', 'c']\n",
    "result_invalid = access_nested_value(nested_dictionary, keys_to_access_invalid)\n",
    "\n",
    "print(\"Accessed Value (invalid keys):\", result_invalid)  # Should output: None\n"
   ]
  },
  {
   "cell_type": "code",
   "execution_count": 94,
   "id": "764dfb29-a07b-4eba-8759-7c002afa959e",
   "metadata": {},
   "outputs": [
    {
     "name": "stdout",
     "output_type": "stream",
     "text": [
      "Sorted Dictionary (Ascending): {'banana': 2, 'date': 3, 'apple': 5, 'cherry': 7}\n",
      "Sorted Dictionary (Descending): {'cherry': 7, 'apple': 5, 'date': 3, 'banana': 2}\n"
     ]
    }
   ],
   "source": [
    "#34. Write a code that takes a dictionary as input and return  a sorted version of it based on the values. You can choose whether to sort in ascending or descending order.\n",
    "def sort_dictionary_by_value(input_dict, ascending=True):\n",
    "    # Sort the dictionary by value\n",
    "    sorted_dict = dict(sorted(input_dict.items(), key=lambda item: item[1], reverse=not ascending))\n",
    "    return sorted_dict\n",
    "\n",
    "# Example usage:\n",
    "my_dict = {'apple': 5, 'banana': 2, 'cherry': 7, 'date': 3}\n",
    "\n",
    "# Sort in ascending order\n",
    "sorted_ascending = sort_dictionary_by_value(my_dict, ascending=True)\n",
    "print(\"Sorted Dictionary (Ascending):\", sorted_ascending)\n",
    "\n",
    "# Sort in descending order\n",
    "sorted_descending = sort_dictionary_by_value(my_dict, ascending=False)\n",
    "print(\"Sorted Dictionary (Descending):\", sorted_descending)\n"
   ]
  },
  {
   "cell_type": "code",
   "execution_count": 96,
   "id": "dc4088bb-8021-4a57-b640-c19b4b53ef82",
   "metadata": {},
   "outputs": [
    {
     "name": "stdout",
     "output_type": "stream",
     "text": [
      "Original Dictionary: {'a': 1, 'b': 2, 'c': 1, 'd': 3}\n",
      "Inverted Dictionary: {1: ['a', 'c'], 2: 'b', 3: 'd'}\n"
     ]
    }
   ],
   "source": [
    "#35. Write a code that inverts a dictionary, swapping keys and values. Ensure that the inverted dictionary correctly handles cases where multiple keys have the some value by storing the kays assist in the inverted dictionary.\n",
    "def invert_dictionary(input_dict):\n",
    "    inverted_dict = {}\n",
    "    \n",
    "    for key, value in input_dict.items():\n",
    "        # If the value is already a key in inverted_dict, append the key to the list\n",
    "        if value in inverted_dict:\n",
    "            if isinstance(inverted_dict[value], list):\n",
    "                inverted_dict[value].append(key)\n",
    "            else:\n",
    "                inverted_dict[value] = [inverted_dict[value], key]\n",
    "        else:\n",
    "            inverted_dict[value] = key  # Assign the key to the value\n",
    "            \n",
    "    return inverted_dict\n",
    "\n",
    "# Example usage:\n",
    "my_dict = {'a': 1, 'b': 2, 'c': 1, 'd': 3}\n",
    "\n",
    "inverted = invert_dictionary(my_dict)\n",
    "\n",
    "print(\"Original Dictionary:\", my_dict)\n",
    "print(\"Inverted Dictionary:\", inverted)\n"
   ]
  },
  {
   "cell_type": "code",
   "execution_count": null,
   "id": "179485ab-76d1-48ab-bf26-b82b89b2daea",
   "metadata": {},
   "outputs": [],
   "source": []
  }
 ],
 "metadata": {
  "kernelspec": {
   "display_name": "Python 3 (ipykernel)",
   "language": "python",
   "name": "python3"
  },
  "language_info": {
   "codemirror_mode": {
    "name": "ipython",
    "version": 3
   },
   "file_extension": ".py",
   "mimetype": "text/x-python",
   "name": "python",
   "nbconvert_exporter": "python",
   "pygments_lexer": "ipython3",
   "version": "3.12.4"
  }
 },
 "nbformat": 4,
 "nbformat_minor": 5
}
